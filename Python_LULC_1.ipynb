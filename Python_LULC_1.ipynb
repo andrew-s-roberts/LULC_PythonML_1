{
  "nbformat": 4,
  "nbformat_minor": 0,
  "metadata": {
    "colab": {
      "provenance": [],
      "authorship_tag": "ABX9TyPLySl2/Zc59Ni50z1Y8Nhr",
      "include_colab_link": true
    },
    "kernelspec": {
      "name": "python3",
      "display_name": "Python 3"
    },
    "language_info": {
      "name": "python"
    }
  },
  "cells": [
    {
      "cell_type": "markdown",
      "metadata": {
        "id": "view-in-github",
        "colab_type": "text"
      },
      "source": [
        "<a href=\"https://colab.research.google.com/github/andrew-s-roberts/LULC_PythonML_1/blob/main/Python_LULC_1.ipynb\" target=\"_parent\"><img src=\"https://colab.research.google.com/assets/colab-badge.svg\" alt=\"Open In Colab\"/></a>"
      ]
    },
    {
      "cell_type": "code",
      "execution_count": null,
      "metadata": {
        "id": "ZegIwPbaDrS-"
      },
      "outputs": [],
      "source": []
    },
    {
      "cell_type": "markdown",
      "source": [
        "#Python for LULC classification of remotely sensed imagery.\n",
        "\n",
        "20 March 2023\n",
        "\n",
        "Objective:\n",
        "\n",
        "\n",
        "Business problem that this technique would solve:\n",
        "\n",
        "\n",
        "Data source:\n",
        "\n",
        "\n",
        "\n",
        "\n",
        "Steps for the analysis:\n",
        "\n",
        "\n",
        "\n"
      ],
      "metadata": {
        "id": "CZdaRkn7Dwwi"
      }
    }
  ]
}